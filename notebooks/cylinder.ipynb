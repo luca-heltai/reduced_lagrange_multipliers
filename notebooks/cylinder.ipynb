{
 "cells": [
  {
   "cell_type": "code",
   "execution_count": 15,
   "id": "60d1fa42",
   "metadata": {},
   "outputs": [
    {
     "name": "stdout",
     "output_type": "stream",
     "text": [
      "%pylab is deprecated, use %matplotlib inline and import the required libraries.\n",
      "Populating the interactive namespace from numpy and matplotlib\n"
     ]
    }
   ],
   "source": [
    "%pylab inline"
   ]
  },
  {
   "cell_type": "code",
   "execution_count": 19,
   "id": "95d6214e",
   "metadata": {},
   "outputs": [],
   "source": [
    "def cylinders(vertices, edges, resolution, radius):\n",
    "    \"\"\"\n",
    "    Create a cylinder, with at least the given resolution, and the given radius\n",
    "    \"\"\"\n",
    "    inclusions = []\n",
    "    for edge in edges:\n",
    "        origin = vertices[edge[0]]\n",
    "        final  = vertices[edge[1]]\n",
    "        n_nodes = max(int(ceil(norm(final-origin)/resolution)),2)\n",
    "        print(n_nodes)\n",
    "        verts = linspace(origin, final, n_nodes)\n",
    "        directions = diff(verts, axis=0)\n",
    "        centers = (verts[1:,:]+verts[:-1,:])/2\n",
    "        radii = ones(centers.shape[0],)*radius\n",
    "        ids = zeros(centers.shape[0],)\n",
    "        inclusions.append(c_[centers, directions, radii, ids])\n",
    "    return concatenate(inclusions)\n",
    "\n",
    "def rotation(a,b):\n",
    "    a = a/norm(a)\n",
    "    b = b/norm(b)\n",
    "    v = np.cross(a, b) \n",
    "    s = np.linalg.norm(v) \n",
    "    c = np.dot(a, b) \n",
    "    vx = np.array([[0, -v[2], v[1]], [v[2], 0, -v[0]], [-v[1], v[0], 0]]) \n",
    "    r = np.eye(3) + vx + vx.dot(vx)* (1-c)/(s**2) \n",
    "    return r"
   ]
  },
  {
   "cell_type": "code",
   "execution_count": 20,
   "id": "09a34c9d",
   "metadata": {},
   "outputs": [
    {
     "name": "stdout",
     "output_type": "stream",
     "text": [
      "163\n"
     ]
    }
   ],
   "source": [
    "n_nodes = 64\n",
    "radius = 1\n",
    "resolution = .49\n",
    "resolution = 2*pi*radius/n_nodes\n",
    "n_coeffs = 5\n",
    "\n",
    "vertices = array([[0,0,-8], [0,0,8]])\n",
    "edges = array([[0,1]], dtype=int)\n",
    "\n",
    "inclusions = cylinders(vertices, edges, resolution, radius)\n",
    "data = ones((inclusions.shape[0],n_coeffs * 3))*10"
   ]
  },
  {
   "cell_type": "code",
   "execution_count": 21,
   "id": "9a842292",
   "metadata": {},
   "outputs": [],
   "source": [
    "savetxt(\"../build/single_cylinder_3d.gpl\", inclusions)\n",
    "savetxt(\"../build/data_file_3d.txt\", data)"
   ]
  },
  {
   "cell_type": "code",
   "execution_count": null,
   "metadata": {},
   "outputs": [],
   "source": []
  },
  {
   "cell_type": "code",
   "execution_count": null,
   "metadata": {},
   "outputs": [],
   "source": []
  }
 ],
 "metadata": {
  "kernelspec": {
   "display_name": "Python 3",
   "language": "python",
   "name": "python3"
  },
  "language_info": {
   "codemirror_mode": {
    "name": "ipython",
    "version": 3
   },
   "file_extension": ".py",
   "mimetype": "text/x-python",
   "name": "python",
   "nbconvert_exporter": "python",
   "pygments_lexer": "ipython3",
   "version": "3.11.5"
  }
 },
 "nbformat": 4,
 "nbformat_minor": 5
}
